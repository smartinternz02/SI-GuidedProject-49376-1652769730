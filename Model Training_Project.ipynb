{
 "cells": [
  {
   "cell_type": "code",
   "execution_count": 3,
   "id": "0a4dce4b",
   "metadata": {},
   "outputs": [],
   "source": [
    "import numpy as np\n",
    "import tensorflow as tf\n",
    "from tensorflow.keras.models import Sequential \n",
    "from tensorflow.keras.layers import Dense,Flatten, Dropout\n",
    "from tensorflow.keras.layers import Convolution2D,MaxPooling2D  \n",
    "from tensorflow.keras.preprocessing.image import ImageDataGenerator"
   ]
  },
  {
   "cell_type": "code",
   "execution_count": 4,
   "id": "758391ca",
   "metadata": {},
   "outputs": [],
   "source": [
    "traindata = ImageDataGenerator(rescale=1./255,shear_range=0.2,zoom_range=0.2,horizontal_flip=True)\n",
    "testdata = ImageDataGenerator(rescale=1./255)"
   ]
  },
  {
   "cell_type": "code",
   "execution_count": 5,
   "id": "7c1fecc6",
   "metadata": {},
   "outputs": [
    {
     "name": "stdout",
     "output_type": "stream",
     "text": [
      "Found 594 images belonging to 6 classes.\n",
      "Found 30 images belonging to 6 classes.\n"
     ]
    }
   ],
   "source": [
    "train = traindata.flow_from_directory(r\"C:\\Users\\aruna\\Downloads\\Dataset\\Dataset\\train\",target_size=(64, 64),batch_size=3,color_mode='grayscale',class_mode='categorical')\n",
    "test = testdata.flow_from_directory(r\"C:\\Users\\aruna\\Downloads\\Dataset\\Dataset\\test\",target_size=(64, 64),batch_size=3,color_mode='grayscale',class_mode='categorical') "
   ]
  },
  {
   "cell_type": "code",
   "execution_count": 6,
   "id": "75467194",
   "metadata": {},
   "outputs": [
    {
     "name": "stdout",
     "output_type": "stream",
     "text": [
      "{'0': 0, '1': 1, '2': 2, '3': 3, '4': 4, '5': 5}\n"
     ]
    }
   ],
   "source": [
    "print(train.class_indices)"
   ]
  },
  {
   "cell_type": "code",
   "execution_count": 7,
   "id": "fa455937",
   "metadata": {},
   "outputs": [],
   "source": [
    "model = Sequential()"
   ]
  },
  {
   "cell_type": "code",
   "execution_count": 8,
   "id": "6698318d",
   "metadata": {},
   "outputs": [],
   "source": [
    "model.add(Convolution2D(32, (3, 3), input_shape=(64, 64, 1), activation='relu'))\n",
    "model.add(MaxPooling2D(pool_size=(2, 2)))"
   ]
  },
  {
   "cell_type": "code",
   "execution_count": 9,
   "id": "c5acfede",
   "metadata": {},
   "outputs": [],
   "source": [
    "# Second convolution layer and pooling\n",
    "model.add(Convolution2D(32, (3, 3), activation='relu'))\n",
    "# input_shape is going to be the pooled feature maps from the previous convolution layer\n",
    "model.add(MaxPooling2D(pool_size=(2,2)))"
   ]
  },
  {
   "cell_type": "code",
   "execution_count": 10,
   "id": "760c9239",
   "metadata": {},
   "outputs": [],
   "source": [
    "model.add(Flatten())"
   ]
  },
  {
   "cell_type": "code",
   "execution_count": 11,
   "id": "afa18812",
   "metadata": {},
   "outputs": [],
   "source": [
    "model.add(Dense(units=512 , activation='relu'))"
   ]
  },
  {
   "cell_type": "code",
   "execution_count": 12,
   "id": "aaad84a1",
   "metadata": {},
   "outputs": [],
   "source": [
    "model.add(Dense(units=6, activation='softmax')) "
   ]
  },
  {
   "cell_type": "code",
   "execution_count": 13,
   "id": "2b6ad3ee",
   "metadata": {},
   "outputs": [
    {
     "name": "stdout",
     "output_type": "stream",
     "text": [
      "Model: \"sequential\"\n",
      "_________________________________________________________________\n",
      " Layer (type)                Output Shape              Param #   \n",
      "=================================================================\n",
      " conv2d (Conv2D)             (None, 62, 62, 32)        320       \n",
      "                                                                 \n",
      " max_pooling2d (MaxPooling2D  (None, 31, 31, 32)       0         \n",
      " )                                                               \n",
      "                                                                 \n",
      " conv2d_1 (Conv2D)           (None, 29, 29, 32)        9248      \n",
      "                                                                 \n",
      " max_pooling2d_1 (MaxPooling  (None, 14, 14, 32)       0         \n",
      " 2D)                                                             \n",
      "                                                                 \n",
      " flatten (Flatten)           (None, 6272)              0         \n",
      "                                                                 \n",
      " dense (Dense)               (None, 512)               3211776   \n",
      "                                                                 \n",
      " dense_1 (Dense)             (None, 6)                 3078      \n",
      "                                                                 \n",
      "=================================================================\n",
      "Total params: 3,224,422\n",
      "Trainable params: 3,224,422\n",
      "Non-trainable params: 0\n",
      "_________________________________________________________________\n"
     ]
    }
   ],
   "source": [
    "model.summary()"
   ]
  },
  {
   "cell_type": "code",
   "execution_count": 14,
   "id": "422fb6c0",
   "metadata": {},
   "outputs": [],
   "source": [
    "model.compile(optimizer='adam', loss='categorical_crossentropy', metrics=['accuracy']) "
   ]
  },
  {
   "cell_type": "code",
   "execution_count": 15,
   "id": "d0298778",
   "metadata": {},
   "outputs": [
    {
     "name": "stdout",
     "output_type": "stream",
     "text": [
      "Epoch 1/25\n",
      "198/198 [==============================] - 9s 42ms/step - loss: 1.2248 - accuracy: 0.5202 - val_loss: 0.6255 - val_accuracy: 0.7667\n",
      "Epoch 2/25\n",
      "198/198 [==============================] - 7s 34ms/step - loss: 0.5868 - accuracy: 0.7727 - val_loss: 0.5568 - val_accuracy: 0.8333\n",
      "Epoch 3/25\n",
      "198/198 [==============================] - 6s 32ms/step - loss: 0.3557 - accuracy: 0.8620 - val_loss: 0.5074 - val_accuracy: 0.8333\n",
      "Epoch 4/25\n",
      "198/198 [==============================] - 6s 32ms/step - loss: 0.2390 - accuracy: 0.9024 - val_loss: 0.3204 - val_accuracy: 0.9667\n",
      "Epoch 5/25\n",
      "198/198 [==============================] - 6s 32ms/step - loss: 0.2054 - accuracy: 0.9259 - val_loss: 0.3193 - val_accuracy: 0.9667\n",
      "Epoch 6/25\n",
      "198/198 [==============================] - 6s 31ms/step - loss: 0.1432 - accuracy: 0.9478 - val_loss: 0.3016 - val_accuracy: 0.9667\n",
      "Epoch 7/25\n",
      "198/198 [==============================] - 6s 30ms/step - loss: 0.0879 - accuracy: 0.9697 - val_loss: 0.3168 - val_accuracy: 0.9667\n",
      "Epoch 8/25\n",
      "198/198 [==============================] - 6s 29ms/step - loss: 0.1481 - accuracy: 0.9495 - val_loss: 0.1694 - val_accuracy: 0.9667\n",
      "Epoch 9/25\n",
      "198/198 [==============================] - 6s 28ms/step - loss: 0.0659 - accuracy: 0.9781 - val_loss: 0.1493 - val_accuracy: 0.9667\n",
      "Epoch 10/25\n",
      "198/198 [==============================] - 6s 28ms/step - loss: 0.0767 - accuracy: 0.9646 - val_loss: 0.2919 - val_accuracy: 0.9333\n",
      "Epoch 11/25\n",
      "198/198 [==============================] - 6s 29ms/step - loss: 0.0644 - accuracy: 0.9747 - val_loss: 0.2170 - val_accuracy: 0.9333\n",
      "Epoch 12/25\n",
      "198/198 [==============================] - 6s 29ms/step - loss: 0.0963 - accuracy: 0.9747 - val_loss: 0.1538 - val_accuracy: 0.9667\n",
      "Epoch 13/25\n",
      "198/198 [==============================] - 6s 29ms/step - loss: 0.0850 - accuracy: 0.9781 - val_loss: 0.2577 - val_accuracy: 0.9667\n",
      "Epoch 14/25\n",
      "198/198 [==============================] - 6s 29ms/step - loss: 0.0202 - accuracy: 0.9983 - val_loss: 0.1846 - val_accuracy: 0.9667\n",
      "Epoch 15/25\n",
      "198/198 [==============================] - 6s 28ms/step - loss: 0.0683 - accuracy: 0.9747 - val_loss: 0.2944 - val_accuracy: 0.9000\n",
      "Epoch 16/25\n",
      "198/198 [==============================] - 6s 28ms/step - loss: 0.0743 - accuracy: 0.9764 - val_loss: 0.1769 - val_accuracy: 0.9667\n",
      "Epoch 17/25\n",
      "198/198 [==============================] - 5s 27ms/step - loss: 0.0268 - accuracy: 0.9882 - val_loss: 0.1980 - val_accuracy: 0.9667\n",
      "Epoch 18/25\n",
      "198/198 [==============================] - 5s 26ms/step - loss: 0.1287 - accuracy: 0.9579 - val_loss: 0.4949 - val_accuracy: 0.9000\n",
      "Epoch 19/25\n",
      "198/198 [==============================] - 5s 27ms/step - loss: 0.0534 - accuracy: 0.9848 - val_loss: 0.2957 - val_accuracy: 0.9667\n",
      "Epoch 20/25\n",
      "198/198 [==============================] - 5s 27ms/step - loss: 0.0204 - accuracy: 0.9933 - val_loss: 0.4434 - val_accuracy: 0.9333\n",
      "Epoch 21/25\n",
      "198/198 [==============================] - 5s 25ms/step - loss: 0.0219 - accuracy: 0.9916 - val_loss: 0.3356 - val_accuracy: 0.9333\n",
      "Epoch 22/25\n",
      "198/198 [==============================] - 5s 25ms/step - loss: 0.0159 - accuracy: 0.9966 - val_loss: 0.4483 - val_accuracy: 0.9333\n",
      "Epoch 23/25\n",
      "198/198 [==============================] - 5s 26ms/step - loss: 0.0209 - accuracy: 0.9966 - val_loss: 0.3822 - val_accuracy: 0.9333\n",
      "Epoch 24/25\n",
      "198/198 [==============================] - 5s 26ms/step - loss: 0.0525 - accuracy: 0.9832 - val_loss: 0.7577 - val_accuracy: 0.8667\n",
      "Epoch 25/25\n",
      "198/198 [==============================] - 5s 25ms/step - loss: 0.0319 - accuracy: 0.9882 - val_loss: 0.3955 - val_accuracy: 0.9667\n"
     ]
    },
    {
     "data": {
      "text/plain": [
       "<keras.callbacks.History at 0x1cf1f126e90>"
      ]
     },
     "execution_count": 15,
     "metadata": {},
     "output_type": "execute_result"
    }
   ],
   "source": [
    "model.fit(train,steps_per_epoch = 594/3 , epochs = 25, validation_data = test,validation_steps = 30/3 )"
   ]
  },
  {
   "cell_type": "code",
   "execution_count": 16,
   "id": "50adf5c6",
   "metadata": {},
   "outputs": [],
   "source": [
    "model.save('gesture.h5')"
   ]
  },
  {
   "cell_type": "code",
   "execution_count": 17,
   "id": "bf341313",
   "metadata": {},
   "outputs": [],
   "source": [
    "model_json = model.to_json()\n",
    "with open(\"model-bw.json\", \"w\") as json_file:\n",
    "    json_file.write(model_json)"
   ]
  }
 ],
 "metadata": {
  "kernelspec": {
   "display_name": "Python 3 (ipykernel)",
   "language": "python",
   "name": "python3"
  },
  "language_info": {
   "codemirror_mode": {
    "name": "ipython",
    "version": 3
   },
   "file_extension": ".py",
   "mimetype": "text/x-python",
   "name": "python",
   "nbconvert_exporter": "python",
   "pygments_lexer": "ipython3",
   "version": "3.10.0"
  }
 },
 "nbformat": 4,
 "nbformat_minor": 5
}
